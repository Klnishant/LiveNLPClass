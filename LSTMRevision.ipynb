{
  "nbformat": 4,
  "nbformat_minor": 0,
  "metadata": {
    "colab": {
      "provenance": [],
      "authorship_tag": "ABX9TyNllv4R/A9iyeEV3GZN5RzW",
      "include_colab_link": true
    },
    "kernelspec": {
      "name": "python3",
      "display_name": "Python 3"
    },
    "language_info": {
      "name": "python"
    }
  },
  "cells": [
    {
      "cell_type": "markdown",
      "metadata": {
        "id": "view-in-github",
        "colab_type": "text"
      },
      "source": [
        "<a href=\"https://colab.research.google.com/github/Klnishant/LiveNLPClass/blob/main/LSTMRevision.ipynb\" target=\"_parent\"><img src=\"https://colab.research.google.com/assets/colab-badge.svg\" alt=\"Open In Colab\"/></a>"
      ]
    },
    {
      "cell_type": "code",
      "execution_count": 1,
      "metadata": {
        "id": "jtHYKwSH6D4u"
      },
      "outputs": [],
      "source": [
        "from keras.datasets import imdb\n",
        "from keras.utils import pad_sequences\n",
        "from keras.preprocessing.text import Tokenizer\n",
        "from keras import Sequential\n",
        "from keras.layers import Embedding,LSTM,Dense"
      ]
    },
    {
      "cell_type": "code",
      "source": [
        "(X_train,y_train),(X_test,y_test)=imdb.load_data()"
      ],
      "metadata": {
        "colab": {
          "base_uri": "https://localhost:8080/"
        },
        "id": "rMGW1lZ162ld",
        "outputId": "1ca76808-9d0f-44f6-a436-e4ce063673ac"
      },
      "execution_count": 2,
      "outputs": [
        {
          "output_type": "stream",
          "name": "stdout",
          "text": [
            "Downloading data from https://storage.googleapis.com/tensorflow/tf-keras-datasets/imdb.npz\n",
            "17464789/17464789 [==============================] - 0s 0us/step\n"
          ]
        }
      ]
    },
    {
      "cell_type": "code",
      "source": [
        "X_train.shape"
      ],
      "metadata": {
        "colab": {
          "base_uri": "https://localhost:8080/"
        },
        "id": "ZrrBk7df7CKD",
        "outputId": "64fd17e2-f9f4-4c7c-babb-4d8c6d39ec31"
      },
      "execution_count": 4,
      "outputs": [
        {
          "output_type": "execute_result",
          "data": {
            "text/plain": [
              "(25000,)"
            ]
          },
          "metadata": {},
          "execution_count": 4
        }
      ]
    },
    {
      "cell_type": "code",
      "source": [
        "X_train = pad_sequences(X_train,maxlen=50,padding='post')\n",
        "X_test = pad_sequences(X_test,maxlen=50,padding='post')"
      ],
      "metadata": {
        "id": "wTHq-HY-7Fyc"
      },
      "execution_count": 5,
      "outputs": []
    },
    {
      "cell_type": "code",
      "source": [
        "X_train.shape"
      ],
      "metadata": {
        "colab": {
          "base_uri": "https://localhost:8080/"
        },
        "id": "Qn3Y9Vhj7iFQ",
        "outputId": "dd1038d0-5849-4b46-d03b-0f9b3f840293"
      },
      "execution_count": 6,
      "outputs": [
        {
          "output_type": "execute_result",
          "data": {
            "text/plain": [
              "(25000, 50)"
            ]
          },
          "metadata": {},
          "execution_count": 6
        }
      ]
    },
    {
      "cell_type": "code",
      "source": [
        "model = Sequential()\n",
        "model.add(Embedding(10000,input_length=50,output_dim=2))\n",
        "model.add(LSTM(32,return_sequences=False))\n",
        "model.add(Dense(1,activation='sigmoid'))\n",
        "\n",
        "model.summary()"
      ],
      "metadata": {
        "colab": {
          "base_uri": "https://localhost:8080/"
        },
        "id": "jBbksWKC7vKg",
        "outputId": "afe3b71d-cdd1-43a0-bc21-96dd2f890c1b"
      },
      "execution_count": 7,
      "outputs": [
        {
          "output_type": "stream",
          "name": "stdout",
          "text": [
            "Model: \"sequential\"\n",
            "_________________________________________________________________\n",
            " Layer (type)                Output Shape              Param #   \n",
            "=================================================================\n",
            " embedding (Embedding)       (None, 50, 2)             20000     \n",
            "                                                                 \n",
            " lstm (LSTM)                 (None, 32)                4480      \n",
            "                                                                 \n",
            " dense (Dense)               (None, 1)                 33        \n",
            "                                                                 \n",
            "=================================================================\n",
            "Total params: 24513 (95.75 KB)\n",
            "Trainable params: 24513 (95.75 KB)\n",
            "Non-trainable params: 0 (0.00 Byte)\n",
            "_________________________________________________________________\n"
          ]
        }
      ]
    },
    {
      "cell_type": "code",
      "source": [
        "model.compile(optimizer='adam',loss='binary_crossentropy',metrics=['accuracy'])"
      ],
      "metadata": {
        "id": "yKDxQLlg8Rb2"
      },
      "execution_count": 8,
      "outputs": []
    },
    {
      "cell_type": "code",
      "source": [
        "import numpy as np\n",
        "X_train = np.clip(X_train,0,9999)\n",
        "X_test = np.clip(X_test,0,9999)"
      ],
      "metadata": {
        "id": "SFJtwp6D84MK"
      },
      "execution_count": 10,
      "outputs": []
    },
    {
      "cell_type": "code",
      "source": [
        "model.fit(X_train,y_train,epochs=10,validation_data=(X_test,y_test))"
      ],
      "metadata": {
        "colab": {
          "base_uri": "https://localhost:8080/"
        },
        "id": "12Uw5C2M8kUW",
        "outputId": "6c865933-7faf-425d-f641-0fdcda23fadf"
      },
      "execution_count": 11,
      "outputs": [
        {
          "output_type": "stream",
          "name": "stdout",
          "text": [
            "Epoch 1/10\n",
            "782/782 [==============================] - 29s 37ms/step - loss: 0.5164 - accuracy: 0.7276 - val_loss: 0.4018 - val_accuracy: 0.8191\n",
            "Epoch 2/10\n",
            "782/782 [==============================] - 24s 30ms/step - loss: 0.3475 - accuracy: 0.8493 - val_loss: 0.4188 - val_accuracy: 0.8084\n",
            "Epoch 3/10\n",
            "782/782 [==============================] - 28s 36ms/step - loss: 0.2981 - accuracy: 0.8752 - val_loss: 0.4163 - val_accuracy: 0.8135\n",
            "Epoch 4/10\n",
            "782/782 [==============================] - 28s 36ms/step - loss: 0.2667 - accuracy: 0.8914 - val_loss: 0.4575 - val_accuracy: 0.8087\n",
            "Epoch 5/10\n",
            "782/782 [==============================] - 23s 30ms/step - loss: 0.2430 - accuracy: 0.9023 - val_loss: 0.4905 - val_accuracy: 0.8006\n",
            "Epoch 6/10\n",
            "782/782 [==============================] - 23s 29ms/step - loss: 0.2264 - accuracy: 0.9135 - val_loss: 0.4923 - val_accuracy: 0.7983\n",
            "Epoch 7/10\n",
            "782/782 [==============================] - 24s 31ms/step - loss: 0.2110 - accuracy: 0.9204 - val_loss: 0.5043 - val_accuracy: 0.7960\n",
            "Epoch 8/10\n",
            "782/782 [==============================] - 29s 37ms/step - loss: 0.1999 - accuracy: 0.9262 - val_loss: 0.5398 - val_accuracy: 0.7861\n",
            "Epoch 9/10\n",
            "782/782 [==============================] - 24s 30ms/step - loss: 0.1897 - accuracy: 0.9296 - val_loss: 0.6076 - val_accuracy: 0.7854\n",
            "Epoch 10/10\n",
            "782/782 [==============================] - 25s 32ms/step - loss: 0.1775 - accuracy: 0.9361 - val_loss: 0.6195 - val_accuracy: 0.7829\n"
          ]
        },
        {
          "output_type": "execute_result",
          "data": {
            "text/plain": [
              "<keras.src.callbacks.History at 0x7a967edce290>"
            ]
          },
          "metadata": {},
          "execution_count": 11
        }
      ]
    },
    {
      "cell_type": "code",
      "source": [
        "test_data = X_test[0][0:50].reshape(1,-1)"
      ],
      "metadata": {
        "id": "mpwTpbIH8zE4"
      },
      "execution_count": 12,
      "outputs": []
    },
    {
      "cell_type": "code",
      "source": [
        "pred=model.predict(test_data)"
      ],
      "metadata": {
        "colab": {
          "base_uri": "https://localhost:8080/"
        },
        "id": "UzZwRQrT-aEF",
        "outputId": "e3a21bad-7c7e-46c5-a11e-0977009dbdf7"
      },
      "execution_count": 13,
      "outputs": [
        {
          "output_type": "stream",
          "name": "stdout",
          "text": [
            "1/1 [==============================] - 1s 505ms/step\n"
          ]
        }
      ]
    },
    {
      "cell_type": "code",
      "source": [
        "pred"
      ],
      "metadata": {
        "colab": {
          "base_uri": "https://localhost:8080/"
        },
        "id": "mDIA507u-hnM",
        "outputId": "3b2abf79-0dd4-40aa-cd9d-f4fad8442c55"
      },
      "execution_count": 14,
      "outputs": [
        {
          "output_type": "execute_result",
          "data": {
            "text/plain": [
              "array([[0.7178803]], dtype=float32)"
            ]
          },
          "metadata": {},
          "execution_count": 14
        }
      ]
    },
    {
      "cell_type": "code",
      "source": [],
      "metadata": {
        "id": "jRnfVP7R-kRz"
      },
      "execution_count": null,
      "outputs": []
    }
  ]
}